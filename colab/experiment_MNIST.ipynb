{
  "nbformat": 4,
  "nbformat_minor": 0,
  "metadata": {
    "colab": {
      "name": "Deepgamblers-tensorflow.ipynb",
      "provenance": [],
      "collapsed_sections": [],
      "include_colab_link": true
    },
    "kernelspec": {
      "name": "python3",
      "display_name": "Python 3"
    }
  },
  "cells": [
    {
      "cell_type": "markdown",
      "metadata": {
        "id": "view-in-github",
        "colab_type": "text"
      },
      "source": [
        "<a href=\"https://colab.research.google.com/github/yoheikikuta/DeepGamblers-tensorflow/blob/master/colab/Deepgamblers_tensorflow.ipynb\" target=\"_parent\"><img src=\"https://colab.research.google.com/assets/colab-badge.svg\" alt=\"Open In Colab\"/></a>"
      ]
    },
    {
      "cell_type": "markdown",
      "metadata": {
        "id": "m_lMxjr66rl6",
        "colab_type": "text"
      },
      "source": [
        "# Deep Gamblers\n",
        "\n",
        "End-to-end check of DeepGamblers https://arxiv.org/abs/1907.00208.  \n",
        "Check only MNIST experiment which is not provided on [the original implementation](https://github.com/Z-T-WANG/NIPS2019DeepGamblers)."
      ]
    },
    {
      "cell_type": "code",
      "metadata": {
        "id": "VF2_R14-5ESC",
        "colab_type": "code",
        "outputId": "7fd7f8b2-8f4e-4bc9-a22a-928827ab3e74",
        "colab": {
          "base_uri": "https://localhost:8080/",
          "height": 33
        }
      },
      "source": [
        "from __future__ import absolute_import, division, print_function, unicode_literals\n",
        "\n",
        "try:\n",
        "    # %tensorflow_version only exists in Colab.\n",
        "    %tensorflow_version 2.x\n",
        "except Exception:\n",
        "    pass\n",
        "\n",
        "import tensorflow as tf"
      ],
      "execution_count": 1,
      "outputs": [
        {
          "output_type": "stream",
          "text": [
            "TensorFlow 2.x selected.\n"
          ],
          "name": "stdout"
        }
      ]
    },
    {
      "cell_type": "code",
      "metadata": {
        "id": "OM6iJ4Uk5PCk",
        "colab_type": "code",
        "outputId": "52877a42-9c1d-47b7-b614-e0367a057d8b",
        "colab": {
          "base_uri": "https://localhost:8080/",
          "height": 33
        }
      },
      "source": [
        "tf.__version__"
      ],
      "execution_count": 2,
      "outputs": [
        {
          "output_type": "execute_result",
          "data": {
            "text/plain": [
              "'2.0.0'"
            ]
          },
          "metadata": {
            "tags": []
          },
          "execution_count": 2
        }
      ]
    },
    {
      "cell_type": "code",
      "metadata": {
        "id": "LiVcbtdJ5Ra9",
        "colab_type": "code",
        "colab": {}
      },
      "source": [
        "from tensorflow.keras import layers\n",
        "import numpy as np"
      ],
      "execution_count": 0,
      "outputs": []
    },
    {
      "cell_type": "markdown",
      "metadata": {
        "id": "mjhL2dyy6rT1",
        "colab_type": "text"
      },
      "source": [
        "## MNIST data"
      ]
    },
    {
      "cell_type": "code",
      "metadata": {
        "id": "x2K-wDet60ko",
        "colab_type": "code",
        "colab": {}
      },
      "source": [
        "(train_images, train_labels), (test_images, test_labels) = tf.keras.datasets.mnist.load_data()"
      ],
      "execution_count": 0,
      "outputs": []
    },
    {
      "cell_type": "code",
      "metadata": {
        "id": "hEMHq6D-62AT",
        "colab_type": "code",
        "colab": {}
      },
      "source": [
        "train_images = train_images.reshape(train_images.shape[0], 28, 28, 1).astype('float32')\n",
        "test_images = test_images.reshape(test_images.shape[0], 28, 28, 1).astype('float32')\n",
        "\n",
        "# Normalizing the images to the range of [0., 1.]\n",
        "train_images /= 255.\n",
        "test_images /= 255."
      ],
      "execution_count": 0,
      "outputs": []
    },
    {
      "cell_type": "code",
      "metadata": {
        "id": "GWQw_6HGSTUK",
        "colab_type": "code",
        "outputId": "c2550ee5-5867-44b1-e8db-326a5f478a30",
        "colab": {
          "base_uri": "https://localhost:8080/",
          "height": 33
        }
      },
      "source": [
        "train_images.shape"
      ],
      "execution_count": 6,
      "outputs": [
        {
          "output_type": "execute_result",
          "data": {
            "text/plain": [
              "(60000, 28, 28, 1)"
            ]
          },
          "metadata": {
            "tags": []
          },
          "execution_count": 6
        }
      ]
    },
    {
      "cell_type": "code",
      "metadata": {
        "id": "u4JjMtqX64Vl",
        "colab_type": "code",
        "colab": {}
      },
      "source": [
        "TRAIN_BUF = 60000\n",
        "TEST_BUF = 10000\n",
        "BATCH_SIZE = 100"
      ],
      "execution_count": 0,
      "outputs": []
    },
    {
      "cell_type": "code",
      "metadata": {
        "id": "4FT6Yz7UU5V-",
        "colab_type": "code",
        "colab": {}
      },
      "source": [
        "train_dataset = tf.data.Dataset.zip((\n",
        "    tf.data.Dataset.from_tensor_slices(train_images),\n",
        "    tf.data.Dataset.from_tensor_slices(tf.one_hot(train_labels, depth=10))\n",
        "))\n",
        "\n",
        "test_dataset = tf.data.Dataset.zip((\n",
        "    tf.data.Dataset.from_tensor_slices(test_images),\n",
        "    tf.data.Dataset.from_tensor_slices(tf.one_hot(test_labels, depth=10))\n",
        "))"
      ],
      "execution_count": 0,
      "outputs": []
    },
    {
      "cell_type": "code",
      "metadata": {
        "id": "vRwXGb9I7B08",
        "colab_type": "code",
        "outputId": "f23a9c9f-d51f-440c-d98e-b082b2c6393a",
        "colab": {
          "base_uri": "https://localhost:8080/",
          "height": 285
        }
      },
      "source": [
        "import matplotlib.pyplot as plt\n",
        "\n",
        "plt.imshow(train_images[0].reshape((28, 28)), cmap=\"gray\")"
      ],
      "execution_count": 9,
      "outputs": [
        {
          "output_type": "execute_result",
          "data": {
            "text/plain": [
              "<matplotlib.image.AxesImage at 0x7f21cd2341d0>"
            ]
          },
          "metadata": {
            "tags": []
          },
          "execution_count": 9
        },
        {
          "output_type": "display_data",
          "data": {
            "image/png": "[encoded data removed]",
            "text/plain": [
              "<Figure size 432x288 with 1 Axes>"
            ]
          },
          "metadata": {
            "tags": []
          }
        }
      ]
    },
    {
      "cell_type": "markdown",
      "metadata": {
        "id": "5X8yhEBT7waD",
        "colab_type": "text"
      },
      "source": [
        "## Model\n",
        "\n",
        "The original paper uses `a simple 4-layer CNN`, here I use simple 2 conv + 1 dense network.  \n",
        "I found this simpler model shows better results."
      ]
    },
    {
      "cell_type": "code",
      "metadata": {
        "id": "IqMt_60A7Rsi",
        "colab_type": "code",
        "colab": {}
      },
      "source": [
        "class CNN(tf.keras.Model):\n",
        "    \"\"\"Simple 2 cov layers model\"\"\"\n",
        "\n",
        "    def __init__(self, o=5.3, output_dim=11, name='cnn', **kwargs) -> None:\n",
        "        super(CNN, self).__init__(name=name, **kwargs)\n",
        "        self.o = o\n",
        "        self.output_dim = output_dim\n",
        "        self.input_layer = layers.InputLayer(input_shape=(28, 28, 1))\n",
        "        self.conv2d_1 = layers.Conv2D(filters=32, kernel_size=3, strides=(1, 1), activation='relu')\n",
        "        self.conv2d_2 = layers.Conv2D(filters=32, kernel_size=3, strides=(1, 1), activation='relu')\n",
        "        self.flatten = layers.Flatten()\n",
        "        self.dense = layers.Dense(self.output_dim)\n",
        "        self.prob = layers.Softmax()\n",
        "\n",
        "    def call(self, inputs):\n",
        "        x = self.input_layer(inputs)\n",
        "        x = self.conv2d_1(x)\n",
        "        x = self.conv2d_2(x)\n",
        "        x = self.flatten(x)\n",
        "        x = self.dense(x)\n",
        "        prob = self.prob(x)\n",
        "        return prob\n",
        "    \n",
        "    def weighted_prob(self, inputs):\n",
        "        prob = self.call(inputs)\n",
        "        class_pred, abstention = tf.split(prob, [self.output_dim - 1, 1], 1)\n",
        "        abstention /= self.o\n",
        "        return tf.concat([class_pred, abstention], 1)"
      ],
      "execution_count": 0,
      "outputs": []
    },
    {
      "cell_type": "code",
      "metadata": {
        "id": "MYgzxlusq8r9",
        "colab_type": "code",
        "colab": {}
      },
      "source": [
        "def compute_loss(model, x, y):\n",
        "    weighted_prob = model.weighted_prob(x)\n",
        "    label_shape = y.shape\n",
        "    extended_label = tf.concat([y, tf.constant(1.0, shape=[label_shape[0], 1])], 1)\n",
        "    log_arg = tf.reduce_sum(extended_label * weighted_prob, 1)\n",
        "    cross_ent = -tf.reduce_sum(tf.math.log(log_arg))\n",
        "    return cross_ent"
      ],
      "execution_count": 0,
      "outputs": []
    },
    {
      "cell_type": "code",
      "metadata": {
        "id": "InfXM4W0-RAH",
        "colab_type": "code",
        "colab": {}
      },
      "source": [
        "def train(model, optimizer, test_loss, train_dataset, test_dataset):\n",
        "    for step, (x_batch_train, y_batch_train) in enumerate(train_dataset):\n",
        "        with tf.GradientTape() as tape:\n",
        "            loss = compute_loss(model, x_batch_train, y_batch_train)\n",
        "\n",
        "        grads = tape.gradient(loss, model.trainable_weights)\n",
        "        optimizer.apply_gradients(zip(grads, model.trainable_weights))\n",
        "\n",
        "    for (x_batch_test, y_batch_test) in test_dataset:\n",
        "        test_loss(compute_loss(model, x_batch_test, y_batch_test))"
      ],
      "execution_count": 0,
      "outputs": []
    },
    {
      "cell_type": "markdown",
      "metadata": {
        "id": "OxU4_nRhH2-Q",
        "colab_type": "text"
      },
      "source": [
        "## Training\n",
        "\n",
        "Since the test accuracy itslef is not a matter of this notebook,\n",
        "print the test accuracy during the training just for checking."
      ]
    },
    {
      "cell_type": "code",
      "metadata": {
        "id": "JO_k1SpJH4k2",
        "colab_type": "code",
        "colab": {}
      },
      "source": [
        "import time"
      ],
      "execution_count": 0,
      "outputs": []
    },
    {
      "cell_type": "code",
      "metadata": {
        "id": "6daCckngIrZL",
        "colab_type": "code",
        "colab": {}
      },
      "source": [
        "train_dataset = tf.data.Dataset.zip((\n",
        "    tf.data.Dataset.from_tensor_slices(train_images),\n",
        "    tf.data.Dataset.from_tensor_slices(tf.one_hot(train_labels, depth=10))\n",
        ")).shuffle(TRAIN_BUF).batch(BATCH_SIZE)\n",
        "\n",
        "test_dataset = tf.data.Dataset.zip((\n",
        "    tf.data.Dataset.from_tensor_slices(test_images),\n",
        "    tf.data.Dataset.from_tensor_slices(tf.one_hot(test_labels, depth=10))\n",
        ")).batch(BATCH_SIZE)"
      ],
      "execution_count": 0,
      "outputs": []
    },
    {
      "cell_type": "code",
      "metadata": {
        "id": "DO93WbzOPoMJ",
        "colab_type": "code",
        "outputId": "67f2ed49-4df7-4a14-86e3-0f6a0ee5ed74",
        "colab": {
          "base_uri": "https://localhost:8080/",
          "height": 131
        }
      },
      "source": [
        "start = time.time()\n",
        "cnn = CNN()\n",
        "optimizer = tf.keras.optimizers.Adam(learning_rate=1e-4)\n",
        "\n",
        "for epoch in range(3):\n",
        "    print(f\"Start of epoch {epoch + 1}\")\n",
        "    test_loss = tf.keras.metrics.Mean()\n",
        "    train(cnn, optimizer, test_loss, train_dataset, test_dataset)\n",
        "    print(f\"  test loss: {test_loss.result()}\")\n",
        "\n",
        "end = time.time()\n",
        "print(f\"TRAINING TIME: {end - start} [sec]\")"
      ],
      "execution_count": 15,
      "outputs": [
        {
          "output_type": "stream",
          "text": [
            "Start of epoch 1\n",
            "  test loss: 23.60125732421875\n",
            "Start of epoch 2\n",
            "  test loss: 16.859041213989258\n",
            "Start of epoch 3\n",
            "  test loss: 11.554091453552246\n",
            "TRAINING TIME: 374.09818053245544 [sec]\n"
          ],
          "name": "stdout"
        }
      ]
    },
    {
      "cell_type": "markdown",
      "metadata": {
        "id": "WLldIFU7HIwx",
        "colab_type": "text"
      },
      "source": [
        "## Check the trained model"
      ]
    },
    {
      "cell_type": "code",
      "metadata": {
        "id": "TYKW6UJQHHFz",
        "colab_type": "code",
        "colab": {
          "base_uri": "https://localhost:8080/",
          "height": 50
        },
        "outputId": "2a445ed3-10d8-45aa-ceae-193faab18322"
      },
      "source": [
        "%%time\n",
        "\n",
        "predictions = np.array([], dtype=np.float32).reshape(0, 11)\n",
        "\n",
        "for (x_batch_test, y_batch_test) in test_dataset:\n",
        "    pred = cnn(x_batch_test)\n",
        "    predictions = np.vstack([predictions, pred])"
      ],
      "execution_count": 16,
      "outputs": [
        {
          "output_type": "stream",
          "text": [
            "CPU times: user 9.28 s, sys: 399 ms, total: 9.68 s\n",
            "Wall time: 5.37 s\n"
          ],
          "name": "stdout"
        }
      ]
    },
    {
      "cell_type": "code",
      "metadata": {
        "id": "shIa4v7gHHLv",
        "colab_type": "code",
        "colab": {
          "base_uri": "https://localhost:8080/",
          "height": 33
        },
        "outputId": "5e58dae3-9ce5-451c-de73-bfb67550dab5"
      },
      "source": [
        "predictions.shape"
      ],
      "execution_count": 17,
      "outputs": [
        {
          "output_type": "execute_result",
          "data": {
            "text/plain": [
              "(10000, 11)"
            ]
          },
          "metadata": {
            "tags": []
          },
          "execution_count": 17
        }
      ]
    },
    {
      "cell_type": "code",
      "metadata": {
        "id": "39mnQC6_KIwX",
        "colab_type": "code",
        "colab": {}
      },
      "source": [
        "abstention_scores = []\n",
        "\n",
        "for idx, elem in enumerate(predictions):\n",
        "    abstention_scores.append((elem[-1], idx))\n",
        "\n",
        "abstention_scores = sorted(abstention_scores, reverse=True)"
      ],
      "execution_count": 0,
      "outputs": []
    },
    {
      "cell_type": "code",
      "metadata": {
        "id": "cOi1C0LqN-Y_",
        "colab_type": "code",
        "colab": {
          "base_uri": "https://localhost:8080/",
          "height": 135
        },
        "outputId": "d8bacc02-11c7-422d-a463-9ad9adfe48fc"
      },
      "source": [
        "def draw_digit(data, title, row, col, n):\n",
        "    plt.subplot(row, col, n)\n",
        "    plt.imshow(data.reshape(28, 28), cmap=\"gray\")\n",
        "    plt.title(title)\n",
        "    plt.axis(\"off\")\n",
        "\n",
        "show_size = 10\n",
        "plt.figure(figsize=(15,20))\n",
        "total = 0\n",
        "for i, (score, idx) in enumerate(abstention_scores[:10]):\n",
        "    draw_digit(test_images[idx], str(score), 1, show_size, total+1)\n",
        "    total += 1\n",
        "plt.show()"
      ],
      "execution_count": 19,
      "outputs": [
        {
          "output_type": "display_data",
          "data": {
            "image/png": "[encoded data removed]",
            "text/plain": [
              "<Figure size 1080x1440 with 10 Axes>"
            ]
          },
          "metadata": {
            "tags": []
          }
        }
      ]
    },
    {
      "cell_type": "markdown",
      "metadata": {
        "id": "8k8U6F5QQ_Gj",
        "colab_type": "text"
      },
      "source": [
        "Top 10 high abstention score images.  \n",
        "It seems the abstention mechanism works well."
      ]
    },
    {
      "cell_type": "code",
      "metadata": {
        "id": "W-DfsWA2bw4B",
        "colab_type": "code",
        "colab": {}
      },
      "source": [
        "def acc_with_thld(thld):\n",
        "    result = []\n",
        "    for pred, ans in zip(predictions, test_labels):\n",
        "        if pred[-1] > thld:\n",
        "            continue\n",
        "        pred_label = np.argmax(pred)\n",
        "        result.append(pred_label == ans)\n",
        "    coverage = len(result) / len(test_labels)\n",
        "    acc = sum(result) / len(result)\n",
        "    return coverage, acc"
      ],
      "execution_count": 0,
      "outputs": []
    },
    {
      "cell_type": "code",
      "metadata": {
        "id": "DzGpyeSabw1R",
        "colab_type": "code",
        "colab": {
          "base_uri": "https://localhost:8080/",
          "height": 180
        },
        "outputId": "d6d1e0b3-acf9-47d2-92e8-7c09911dfd26"
      },
      "source": [
        "for thld in np.arange(1.0, 0.0, -0.1):\n",
        "    coverage, acc = acc_with_thld(thld)\n",
        "    print(f\"Threshold: {thld:.1f}, Coverage : {coverage:.4f}, Accuracy : {acc:.4f}\")"
      ],
      "execution_count": 21,
      "outputs": [
        {
          "output_type": "stream",
          "text": [
            "Threshold: 1.0, Coverage : 1.0000, Accuracy : 0.9654\n",
            "Threshold: 0.9, Coverage : 1.0000, Accuracy : 0.9654\n",
            "Threshold: 0.8, Coverage : 0.9998, Accuracy : 0.9656\n",
            "Threshold: 0.7, Coverage : 0.9996, Accuracy : 0.9658\n",
            "Threshold: 0.6, Coverage : 0.9995, Accuracy : 0.9659\n",
            "Threshold: 0.5, Coverage : 0.9992, Accuracy : 0.9662\n",
            "Threshold: 0.4, Coverage : 0.9991, Accuracy : 0.9663\n",
            "Threshold: 0.3, Coverage : 0.9986, Accuracy : 0.9668\n",
            "Threshold: 0.2, Coverage : 0.9969, Accuracy : 0.9677\n",
            "Threshold: 0.1, Coverage : 0.9929, Accuracy : 0.9693\n"
          ],
          "name": "stdout"
        }
      ]
    },
    {
      "cell_type": "markdown",
      "metadata": {
        "id": "U2gC8ZqtDmQO",
        "colab_type": "text"
      },
      "source": [
        "## Rotated \"9\" experiment"
      ]
    },
    {
      "cell_type": "code",
      "metadata": {
        "id": "FtI-iaT_uIIY",
        "colab_type": "code",
        "colab": {}
      },
      "source": [
        "from tensorflow.keras.preprocessing.image import apply_affine_transform"
      ],
      "execution_count": 0,
      "outputs": []
    },
    {
      "cell_type": "code",
      "metadata": {
        "id": "s286Elwy9MRD",
        "colab_type": "code",
        "colab": {}
      },
      "source": [
        "nines_idx = []\n",
        "\n",
        "for idx, num in enumerate(test_labels):\n",
        "    if num == 9:\n",
        "        nines_idx.append(idx)"
      ],
      "execution_count": 0,
      "outputs": []
    },
    {
      "cell_type": "code",
      "metadata": {
        "id": "lSXKwCob92Tz",
        "colab_type": "code",
        "colab": {
          "base_uri": "https://localhost:8080/",
          "height": 33
        },
        "outputId": "d935c4cc-b2de-4d53-8c83-aea49a3061ed"
      },
      "source": [
        "nines_idx[:5]"
      ],
      "execution_count": 24,
      "outputs": [
        {
          "output_type": "execute_result",
          "data": {
            "text/plain": [
              "[7, 9, 12, 16, 20]"
            ]
          },
          "metadata": {
            "tags": []
          },
          "execution_count": 24
        }
      ]
    },
    {
      "cell_type": "code",
      "metadata": {
        "id": "PgRmG3Ur9SqW",
        "colab_type": "code",
        "colab": {
          "base_uri": "https://localhost:8080/",
          "height": 285
        },
        "outputId": "637b3d26-b745-463b-c5cb-71247c304f59"
      },
      "source": [
        "plt.imshow(test_images[16].reshape(28, 28), cmap=\"gray\")"
      ],
      "execution_count": 25,
      "outputs": [
        {
          "output_type": "execute_result",
          "data": {
            "text/plain": [
              "<matplotlib.image.AxesImage at 0x7f21e9137860>"
            ]
          },
          "metadata": {
            "tags": []
          },
          "execution_count": 25
        },
        {
          "output_type": "display_data",
          "data": {
            "image/png": "[encoded data removed]",
            "text/plain": [
              "<Figure size 432x288 with 1 Axes>"
            ]
          },
          "metadata": {
            "tags": []
          }
        }
      ]
    },
    {
      "cell_type": "code",
      "metadata": {
        "id": "RvN5UymkuIE1",
        "colab_type": "code",
        "colab": {}
      },
      "source": [
        "def rotation(img, degree):\n",
        "    rotated_img = apply_affine_transform(img, channel_axis=2, theta=degree, fill_mode=\"nearest\", cval=0.)\n",
        "    return rotated_img"
      ],
      "execution_count": 0,
      "outputs": []
    },
    {
      "cell_type": "code",
      "metadata": {
        "id": "AyR9wPo_9I1G",
        "colab_type": "code",
        "colab": {
          "base_uri": "https://localhost:8080/",
          "height": 148
        },
        "outputId": "761c498b-e0b0-422a-c5d5-749e4d2008b0"
      },
      "source": [
        "def draw_digit(data, score, label, row, col, n):\n",
        "    plt.subplot(row, col, n)\n",
        "    plt.imshow(data.reshape(28, 28), cmap=\"gray\")\n",
        "    plt.title(score)\n",
        "    plt.xlabel(\"predict: \" + label)\n",
        "    # plt.axis(\"off\")\n",
        "\n",
        "show_size = 10\n",
        "plt.figure(figsize=(15,20))\n",
        "\n",
        "total = 0\n",
        "for i, degree in enumerate(range(0, 200, 20)):\n",
        "    rotated_img = rotation(test_images[16], degree)\n",
        "    pred = cnn(tf.expand_dims(rotated_img, 0)).numpy().squeeze()\n",
        "    label = np.argmax(pred)\n",
        "    confidence = np.max(pred)\n",
        "    abstention_score = pred[-1].round(5)\n",
        "    draw_digit(rotated_img, str(abstention_score), str(label), 1, show_size, total+1)\n",
        "\n",
        "    total += 1\n",
        "plt.show()"
      ],
      "execution_count": 27,
      "outputs": [
        {
          "output_type": "display_data",
          "data": {
            "image/png": "[encoded data removed]",
            "text/plain": [
              "<Figure size 1080x1440 with 10 Axes>"
            ]
          },
          "metadata": {
            "tags": []
          }
        }
      ]
    },
    {
      "cell_type": "markdown",
      "metadata": {
        "id": "piQiOe8BJwVv",
        "colab_type": "text"
      },
      "source": [
        "NOTE: Class `10` is the abstention class."
      ]
    },
    {
      "cell_type": "code",
      "metadata": {
        "id": "qJaC_deCBpH7",
        "colab_type": "code",
        "colab": {}
      },
      "source": [
        ""
      ],
      "execution_count": 0,
      "outputs": []
    },
    {
      "cell_type": "code",
      "metadata": {
        "id": "gVMcQpC7Judu",
        "colab_type": "code",
        "colab": {}
      },
      "source": [
        ""
      ],
      "execution_count": 0,
      "outputs": []
    },
    {
      "cell_type": "code",
      "metadata": {
        "id": "xxtX7Yh4Julh",
        "colab_type": "code",
        "colab": {}
      },
      "source": [
        ""
      ],
      "execution_count": 0,
      "outputs": []
    },
    {
      "cell_type": "code",
      "metadata": {
        "id": "5fiI6n5SJuxM",
        "colab_type": "code",
        "colab": {}
      },
      "source": [
        ""
      ],
      "execution_count": 0,
      "outputs": []
    },
    {
      "cell_type": "code",
      "metadata": {
        "id": "wk6FONj9Ju6S",
        "colab_type": "code",
        "colab": {}
      },
      "source": [
        ""
      ],
      "execution_count": 0,
      "outputs": []
    },
    {
      "cell_type": "code",
      "metadata": {
        "id": "X2BM6f-VJvBr",
        "colab_type": "code",
        "colab": {}
      },
      "source": [
        ""
      ],
      "execution_count": 0,
      "outputs": []
    },
    {
      "cell_type": "code",
      "metadata": {
        "id": "2Lfuowk4BpSV",
        "colab_type": "code",
        "colab": {}
      },
      "source": [
        ""
      ],
      "execution_count": 0,
      "outputs": []
    },
    {
      "cell_type": "code",
      "metadata": {
        "id": "9O7F5Cb6DQz2",
        "colab_type": "code",
        "colab": {}
      },
      "source": [
        ""
      ],
      "execution_count": 0,
      "outputs": []
    },
    {
      "cell_type": "code",
      "metadata": {
        "id": "EuIrH_rYDQwz",
        "colab_type": "code",
        "colab": {}
      },
      "source": [
        ""
      ],
      "execution_count": 0,
      "outputs": []
    },
    {
      "cell_type": "code",
      "metadata": {
        "id": "y115dvo_BpEg",
        "colab_type": "code",
        "colab": {}
      },
      "source": [
        ""
      ],
      "execution_count": 0,
      "outputs": []
    },
    {
      "cell_type": "markdown",
      "metadata": {
        "id": "Gpjufrj2-Rxj",
        "colab_type": "text"
      },
      "source": [
        "## Trial and Errors"
      ]
    },
    {
      "cell_type": "code",
      "metadata": {
        "id": "ci2OCkRP-UGM",
        "colab_type": "code",
        "colab": {}
      },
      "source": [
        "a = [1, 2, 3, 4, 5]"
      ],
      "execution_count": 0,
      "outputs": []
    },
    {
      "cell_type": "code",
      "metadata": {
        "id": "xWO8UA8Q-WUj",
        "colab_type": "code",
        "outputId": "947c2dd9-4600-467b-9bab-621f7a2f3bce",
        "colab": {
          "base_uri": "https://localhost:8080/",
          "height": 33
        }
      },
      "source": [
        "a[:-1]"
      ],
      "execution_count": 0,
      "outputs": [
        {
          "output_type": "execute_result",
          "data": {
            "text/plain": [
              "[1, 2, 3, 4]"
            ]
          },
          "metadata": {
            "tags": []
          },
          "execution_count": 22
        }
      ]
    },
    {
      "cell_type": "code",
      "metadata": {
        "id": "AUWWPkyh-Xc0",
        "colab_type": "code",
        "outputId": "0deb23ec-95c7-4fe5-bd29-889cf8a02338",
        "colab": {
          "base_uri": "https://localhost:8080/",
          "height": 33
        }
      },
      "source": [
        "a[-1]"
      ],
      "execution_count": 0,
      "outputs": [
        {
          "output_type": "execute_result",
          "data": {
            "text/plain": [
              "5"
            ]
          },
          "metadata": {
            "tags": []
          },
          "execution_count": 23
        }
      ]
    },
    {
      "cell_type": "code",
      "metadata": {
        "id": "DpaObWI9oYiY",
        "colab_type": "code",
        "colab": {
          "base_uri": "https://localhost:8080/",
          "height": 82
        },
        "outputId": "6213a8ba-85a3-49d8-f1fd-f5781a3a95cc"
      },
      "source": [
        "tf.one_hot(train_labels, depth=10)[0:3]"
      ],
      "execution_count": 8,
      "outputs": [
        {
          "output_type": "execute_result",
          "data": {
            "text/plain": [
              "<tf.Tensor: id=17, shape=(3, 10), dtype=float32, numpy=\n",
              "array([[0., 0., 0., 0., 0., 1., 0., 0., 0., 0.],\n",
              "       [1., 0., 0., 0., 0., 0., 0., 0., 0., 0.],\n",
              "       [0., 0., 0., 0., 1., 0., 0., 0., 0., 0.]], dtype=float32)>"
            ]
          },
          "metadata": {
            "tags": []
          },
          "execution_count": 8
        }
      ]
    },
    {
      "cell_type": "code",
      "metadata": {
        "id": "BuO2J8pb-YLg",
        "colab_type": "code",
        "colab": {}
      },
      "source": [
        "test_model = CNN(1.2)"
      ],
      "execution_count": 0,
      "outputs": []
    },
    {
      "cell_type": "code",
      "metadata": {
        "id": "icBxVasP-5hU",
        "colab_type": "code",
        "colab": {}
      },
      "source": [
        "check_data = tf.constant(train_images[0])"
      ],
      "execution_count": 0,
      "outputs": []
    },
    {
      "cell_type": "code",
      "metadata": {
        "id": "lmkLUnK_-6G9",
        "colab_type": "code",
        "outputId": "1078b43b-3a9e-4155-c19f-f4c22a559842",
        "colab": {
          "base_uri": "https://localhost:8080/",
          "height": 33
        }
      },
      "source": [
        "check_data.shape"
      ],
      "execution_count": 0,
      "outputs": [
        {
          "output_type": "execute_result",
          "data": {
            "text/plain": [
              "TensorShape([28, 28, 1])"
            ]
          },
          "metadata": {
            "tags": []
          },
          "execution_count": 160
        }
      ]
    },
    {
      "cell_type": "code",
      "metadata": {
        "id": "txhakxpD_t7R",
        "colab_type": "code",
        "outputId": "6ef0fc93-a4fc-4a06-db92-c26fd532e9fa",
        "colab": {
          "base_uri": "https://localhost:8080/",
          "height": 33
        }
      },
      "source": [
        "tf.shape(tf.expand_dims(check_data, 0))  # Add batch dim."
      ],
      "execution_count": 0,
      "outputs": [
        {
          "output_type": "execute_result",
          "data": {
            "text/plain": [
              "<tf.Tensor: id=1601, shape=(4,), dtype=int32, numpy=array([ 1, 28, 28,  1], dtype=int32)>"
            ]
          },
          "metadata": {
            "tags": []
          },
          "execution_count": 161
        }
      ]
    },
    {
      "cell_type": "code",
      "metadata": {
        "id": "--WQlErC_XAH",
        "colab_type": "code",
        "colab": {}
      },
      "source": [
        "prob = test_model(tf.expand_dims(check_data, 0))"
      ],
      "execution_count": 0,
      "outputs": []
    },
    {
      "cell_type": "code",
      "metadata": {
        "id": "hXcCwAxs_mvT",
        "colab_type": "code",
        "outputId": "c883cf25-0b7d-47fe-cac7-b6eb86cfb84d",
        "colab": {
          "base_uri": "https://localhost:8080/",
          "height": 33
        }
      },
      "source": [
        "prob.shape"
      ],
      "execution_count": 0,
      "outputs": [
        {
          "output_type": "execute_result",
          "data": {
            "text/plain": [
              "TensorShape([1, 11])"
            ]
          },
          "metadata": {
            "tags": []
          },
          "execution_count": 163
        }
      ]
    },
    {
      "cell_type": "code",
      "metadata": {
        "id": "SETtDCNMCy08",
        "colab_type": "code",
        "outputId": "f8e5f227-2030-4829-ff8a-1e55f8bf0c4d",
        "colab": {
          "base_uri": "https://localhost:8080/",
          "height": 215
        }
      },
      "source": [
        "abstention = test_model.weighted_prob(tf.expand_dims(check_data, 0))"
      ],
      "execution_count": 0,
      "outputs": [
        {
          "output_type": "error",
          "ename": "InvalidArgumentError",
          "evalue": "ignored",
          "traceback": [
            "\u001b[0;31m---------------------------------------------------------------------------\u001b[0m",
            "\u001b[0;31mInvalidArgumentError\u001b[0m                      Traceback (most recent call last)",
            "\u001b[0;32m<ipython-input-116-eea3f1a408d6>\u001b[0m in \u001b[0;36m<module>\u001b[0;34m()\u001b[0m\n\u001b[0;32m----> 1\u001b[0;31m \u001b[0mabstention\u001b[0m \u001b[0;34m=\u001b[0m \u001b[0mtest_model\u001b[0m\u001b[0;34m.\u001b[0m\u001b[0mweighted_prob\u001b[0m\u001b[0;34m(\u001b[0m\u001b[0mtf\u001b[0m\u001b[0;34m.\u001b[0m\u001b[0mexpand_dims\u001b[0m\u001b[0;34m(\u001b[0m\u001b[0mcheck_data\u001b[0m\u001b[0;34m,\u001b[0m \u001b[0;36m0\u001b[0m\u001b[0;34m)\u001b[0m\u001b[0;34m)\u001b[0m\u001b[0;34m\u001b[0m\u001b[0;34m\u001b[0m\u001b[0m\n\u001b[0m",
            "\u001b[0;32m<ipython-input-109-ac8b9b6e4570>\u001b[0m in \u001b[0;36mweighted_prob\u001b[0;34m(self, inputs)\u001b[0m\n\u001b[1;32m     27\u001b[0m     \u001b[0;32mdef\u001b[0m \u001b[0mweighted_prob\u001b[0m\u001b[0;34m(\u001b[0m\u001b[0mself\u001b[0m\u001b[0;34m,\u001b[0m \u001b[0minputs\u001b[0m\u001b[0;34m)\u001b[0m\u001b[0;34m:\u001b[0m\u001b[0;34m\u001b[0m\u001b[0;34m\u001b[0m\u001b[0m\n\u001b[1;32m     28\u001b[0m         \u001b[0mprob\u001b[0m \u001b[0;34m=\u001b[0m \u001b[0mself\u001b[0m\u001b[0;34m.\u001b[0m\u001b[0mcall\u001b[0m\u001b[0;34m(\u001b[0m\u001b[0minputs\u001b[0m\u001b[0;34m)\u001b[0m\u001b[0;34m\u001b[0m\u001b[0;34m\u001b[0m\u001b[0m\n\u001b[0;32m---> 29\u001b[0;31m         \u001b[0mabstention\u001b[0m \u001b[0;34m=\u001b[0m \u001b[0mtf\u001b[0m\u001b[0;34m.\u001b[0m\u001b[0mslice\u001b[0m\u001b[0;34m(\u001b[0m\u001b[0mprob\u001b[0m\u001b[0;34m,\u001b[0m \u001b[0;34m[\u001b[0m\u001b[0;36m1\u001b[0m\u001b[0;34m,\u001b[0m \u001b[0;34m-\u001b[0m\u001b[0;36m2\u001b[0m\u001b[0;34m]\u001b[0m\u001b[0;34m,\u001b[0m \u001b[0;34m[\u001b[0m\u001b[0;36m1\u001b[0m\u001b[0;34m,\u001b[0m \u001b[0;34m-\u001b[0m\u001b[0;36m1\u001b[0m\u001b[0;34m]\u001b[0m\u001b[0;34m)\u001b[0m\u001b[0;34m\u001b[0m\u001b[0;34m\u001b[0m\u001b[0m\n\u001b[0m\u001b[1;32m     30\u001b[0m         \u001b[0;32mreturn\u001b[0m \u001b[0mabstention\u001b[0m\u001b[0;34m\u001b[0m\u001b[0;34m\u001b[0m\u001b[0m\n",
            "\u001b[0;32m/tensorflow-2.0.0/python3.6/tensorflow_core/python/ops/array_ops.py\u001b[0m in \u001b[0;36mslice\u001b[0;34m(input_, begin, size, name)\u001b[0m\n\u001b[1;32m    864\u001b[0m     \u001b[0mA\u001b[0m\u001b[0;31m \u001b[0m\u001b[0;31m`\u001b[0m\u001b[0mTensor\u001b[0m\u001b[0;31m`\u001b[0m \u001b[0mthe\u001b[0m \u001b[0msame\u001b[0m \u001b[0mtype\u001b[0m \u001b[0;32mas\u001b[0m\u001b[0;31m \u001b[0m\u001b[0;31m`\u001b[0m\u001b[0minput_\u001b[0m\u001b[0;31m`\u001b[0m\u001b[0;34m.\u001b[0m\u001b[0;34m\u001b[0m\u001b[0;34m\u001b[0m\u001b[0m\n\u001b[1;32m    865\u001b[0m   \"\"\"\n\u001b[0;32m--> 866\u001b[0;31m   \u001b[0;32mreturn\u001b[0m \u001b[0mgen_array_ops\u001b[0m\u001b[0;34m.\u001b[0m\u001b[0m_slice\u001b[0m\u001b[0;34m(\u001b[0m\u001b[0minput_\u001b[0m\u001b[0;34m,\u001b[0m \u001b[0mbegin\u001b[0m\u001b[0;34m,\u001b[0m \u001b[0msize\u001b[0m\u001b[0;34m,\u001b[0m \u001b[0mname\u001b[0m\u001b[0;34m=\u001b[0m\u001b[0mname\u001b[0m\u001b[0;34m)\u001b[0m\u001b[0;34m\u001b[0m\u001b[0;34m\u001b[0m\u001b[0m\n\u001b[0m\u001b[1;32m    867\u001b[0m \u001b[0;34m\u001b[0m\u001b[0m\n\u001b[1;32m    868\u001b[0m \u001b[0;34m\u001b[0m\u001b[0m\n",
            "\u001b[0;32m/tensorflow-2.0.0/python3.6/tensorflow_core/python/ops/gen_array_ops.py\u001b[0m in \u001b[0;36m_slice\u001b[0;34m(input, begin, size, name)\u001b[0m\n\u001b[1;32m   9211\u001b[0m       \u001b[0;32mtry\u001b[0m\u001b[0;34m:\u001b[0m\u001b[0;34m\u001b[0m\u001b[0;34m\u001b[0m\u001b[0m\n\u001b[1;32m   9212\u001b[0m         return _slice_eager_fallback(\n\u001b[0;32m-> 9213\u001b[0;31m             input, begin, size, name=name, ctx=_ctx)\n\u001b[0m\u001b[1;32m   9214\u001b[0m       \u001b[0;32mexcept\u001b[0m \u001b[0m_core\u001b[0m\u001b[0;34m.\u001b[0m\u001b[0m_SymbolicException\u001b[0m\u001b[0;34m:\u001b[0m\u001b[0;34m\u001b[0m\u001b[0;34m\u001b[0m\u001b[0m\n\u001b[1;32m   9215\u001b[0m         \u001b[0;32mpass\u001b[0m  \u001b[0;31m# Add nodes to the TensorFlow graph.\u001b[0m\u001b[0;34m\u001b[0m\u001b[0;34m\u001b[0m\u001b[0m\n",
            "\u001b[0;32m/tensorflow-2.0.0/python3.6/tensorflow_core/python/ops/gen_array_ops.py\u001b[0m in \u001b[0;36m_slice_eager_fallback\u001b[0;34m(input, begin, size, name, ctx)\u001b[0m\n\u001b[1;32m   9250\u001b[0m   \u001b[0m_attrs\u001b[0m \u001b[0;34m=\u001b[0m \u001b[0;34m(\u001b[0m\u001b[0;34m\"T\"\u001b[0m\u001b[0;34m,\u001b[0m \u001b[0m_attr_T\u001b[0m\u001b[0;34m,\u001b[0m \u001b[0;34m\"Index\"\u001b[0m\u001b[0;34m,\u001b[0m \u001b[0m_attr_Index\u001b[0m\u001b[0;34m)\u001b[0m\u001b[0;34m\u001b[0m\u001b[0;34m\u001b[0m\u001b[0m\n\u001b[1;32m   9251\u001b[0m   _result = _execute.execute(b\"Slice\", 1, inputs=_inputs_flat, attrs=_attrs,\n\u001b[0;32m-> 9252\u001b[0;31m                              ctx=_ctx, name=name)\n\u001b[0m\u001b[1;32m   9253\u001b[0m   _execute.record_gradient(\n\u001b[1;32m   9254\u001b[0m       \"Slice\", _inputs_flat, _attrs, _result, name)\n",
            "\u001b[0;32m/tensorflow-2.0.0/python3.6/tensorflow_core/python/eager/execute.py\u001b[0m in \u001b[0;36mquick_execute\u001b[0;34m(op_name, num_outputs, inputs, attrs, ctx, name)\u001b[0m\n\u001b[1;32m     65\u001b[0m     \u001b[0;32melse\u001b[0m\u001b[0;34m:\u001b[0m\u001b[0;34m\u001b[0m\u001b[0;34m\u001b[0m\u001b[0m\n\u001b[1;32m     66\u001b[0m       \u001b[0mmessage\u001b[0m \u001b[0;34m=\u001b[0m \u001b[0me\u001b[0m\u001b[0;34m.\u001b[0m\u001b[0mmessage\u001b[0m\u001b[0;34m\u001b[0m\u001b[0;34m\u001b[0m\u001b[0m\n\u001b[0;32m---> 67\u001b[0;31m     \u001b[0msix\u001b[0m\u001b[0;34m.\u001b[0m\u001b[0mraise_from\u001b[0m\u001b[0;34m(\u001b[0m\u001b[0mcore\u001b[0m\u001b[0;34m.\u001b[0m\u001b[0m_status_to_exception\u001b[0m\u001b[0;34m(\u001b[0m\u001b[0me\u001b[0m\u001b[0;34m.\u001b[0m\u001b[0mcode\u001b[0m\u001b[0;34m,\u001b[0m \u001b[0mmessage\u001b[0m\u001b[0;34m)\u001b[0m\u001b[0;34m,\u001b[0m \u001b[0;32mNone\u001b[0m\u001b[0;34m)\u001b[0m\u001b[0;34m\u001b[0m\u001b[0;34m\u001b[0m\u001b[0m\n\u001b[0m\u001b[1;32m     68\u001b[0m   \u001b[0;32mexcept\u001b[0m \u001b[0mTypeError\u001b[0m \u001b[0;32mas\u001b[0m \u001b[0me\u001b[0m\u001b[0;34m:\u001b[0m\u001b[0;34m\u001b[0m\u001b[0;34m\u001b[0m\u001b[0m\n\u001b[1;32m     69\u001b[0m     keras_symbolic_tensors = [\n",
            "\u001b[0;32m/usr/local/lib/python3.6/dist-packages/six.py\u001b[0m in \u001b[0;36mraise_from\u001b[0;34m(value, from_value)\u001b[0m\n",
            "\u001b[0;31mInvalidArgumentError\u001b[0m: Expected size[0] in [0, 0], but got 1 [Op:Slice]"
          ]
        }
      ]
    },
    {
      "cell_type": "code",
      "metadata": {
        "id": "tCMCkMcaEosZ",
        "colab_type": "code",
        "colab": {}
      },
      "source": [
        "a = tf.constant([[0,1,2,3,4,5,6,7,8,9,10]], dtype=tf.float32)"
      ],
      "execution_count": 0,
      "outputs": []
    },
    {
      "cell_type": "code",
      "metadata": {
        "id": "KBDoDcVJEuG3",
        "colab_type": "code",
        "outputId": "39a253a6-6b4e-4f3b-c84b-2faa49898ed9",
        "colab": {
          "base_uri": "https://localhost:8080/",
          "height": 33
        }
      },
      "source": [
        "a.shape"
      ],
      "execution_count": 0,
      "outputs": [
        {
          "output_type": "execute_result",
          "data": {
            "text/plain": [
              "TensorShape([1, 11])"
            ]
          },
          "metadata": {
            "tags": []
          },
          "execution_count": 129
        }
      ]
    },
    {
      "cell_type": "code",
      "metadata": {
        "id": "f0Dd_nwDEvd0",
        "colab_type": "code",
        "outputId": "f21718f6-24a9-4899-df0b-f895ba44aa01",
        "colab": {
          "base_uri": "https://localhost:8080/",
          "height": 126
        }
      },
      "source": [
        "tf.slice(a, [:, 0], [:, 3])"
      ],
      "execution_count": 0,
      "outputs": [
        {
          "output_type": "error",
          "ename": "SyntaxError",
          "evalue": "ignored",
          "traceback": [
            "\u001b[0;36m  File \u001b[0;32m\"<ipython-input-130-1af92f362f63>\"\u001b[0;36m, line \u001b[0;32m1\u001b[0m\n\u001b[0;31m    tf.slice(a, [:, 0], [:, 3])\u001b[0m\n\u001b[0m                 ^\u001b[0m\n\u001b[0;31mSyntaxError\u001b[0m\u001b[0;31m:\u001b[0m invalid syntax\n"
          ]
        }
      ]
    },
    {
      "cell_type": "code",
      "metadata": {
        "id": "LUGut8yNEzz5",
        "colab_type": "code",
        "colab": {}
      },
      "source": [
        "b, c = tf.split(a, [10, 1], 1)"
      ],
      "execution_count": 0,
      "outputs": []
    },
    {
      "cell_type": "code",
      "metadata": {
        "id": "3mrLTlSSFrF4",
        "colab_type": "code",
        "outputId": "23b78a32-6866-4bec-b02d-a5f60fe7debb",
        "colab": {
          "base_uri": "https://localhost:8080/",
          "height": 50
        }
      },
      "source": [
        "b, c"
      ],
      "execution_count": 0,
      "outputs": [
        {
          "output_type": "execute_result",
          "data": {
            "text/plain": [
              "(<tf.Tensor: id=1264, shape=(1, 10), dtype=float32, numpy=array([[0., 1., 2., 3., 4., 5., 6., 7., 8., 9.]], dtype=float32)>,\n",
              " <tf.Tensor: id=1265, shape=(1, 1), dtype=float32, numpy=array([[10.]], dtype=float32)>)"
            ]
          },
          "metadata": {
            "tags": []
          },
          "execution_count": 132
        }
      ]
    },
    {
      "cell_type": "code",
      "metadata": {
        "id": "jOrc1NMxFr5t",
        "colab_type": "code",
        "outputId": "9e7f0559-e799-41e2-8027-a8cdcec55a6f",
        "colab": {
          "base_uri": "https://localhost:8080/",
          "height": 33
        }
      },
      "source": [
        "c / 2.0"
      ],
      "execution_count": 0,
      "outputs": [
        {
          "output_type": "execute_result",
          "data": {
            "text/plain": [
              "<tf.Tensor: id=1267, shape=(1, 1), dtype=float32, numpy=array([[5.]], dtype=float32)>"
            ]
          },
          "metadata": {
            "tags": []
          },
          "execution_count": 133
        }
      ]
    },
    {
      "cell_type": "code",
      "metadata": {
        "id": "f6zbYjr5FxPs",
        "colab_type": "code",
        "outputId": "961f52bc-8822-4fa6-f193-a7fa222f5f83",
        "colab": {
          "base_uri": "https://localhost:8080/",
          "height": 66
        }
      },
      "source": [
        "tf.concat([b, c], 1)"
      ],
      "execution_count": 0,
      "outputs": [
        {
          "output_type": "execute_result",
          "data": {
            "text/plain": [
              "<tf.Tensor: id=1270, shape=(1, 11), dtype=float32, numpy=\n",
              "array([[ 0.,  1.,  2.,  3.,  4.,  5.,  6.,  7.,  8.,  9., 10.]],\n",
              "      dtype=float32)>"
            ]
          },
          "metadata": {
            "tags": []
          },
          "execution_count": 138
        }
      ]
    },
    {
      "cell_type": "code",
      "metadata": {
        "id": "cYuYOk4DMsSD",
        "colab_type": "code",
        "outputId": "c894027e-7705-41ab-b7f3-64c80489e0d3",
        "colab": {
          "base_uri": "https://localhost:8080/",
          "height": 82
        }
      },
      "source": [
        "test_model.weighted_prob(tf.expand_dims(check_data, 0))"
      ],
      "execution_count": 0,
      "outputs": [
        {
          "output_type": "execute_result",
          "data": {
            "text/plain": [
              "<tf.Tensor: id=1781, shape=(1, 11), dtype=float32, numpy=\n",
              "array([[ 0.       ,  0.8333333,  1.6666666,  2.5      ,  3.3333333,\n",
              "         4.1666665,  5.       ,  5.833333 ,  6.6666665,  7.4999995,\n",
              "        10.       ]], dtype=float32)>"
            ]
          },
          "metadata": {
            "tags": []
          },
          "execution_count": 164
        }
      ]
    },
    {
      "cell_type": "code",
      "metadata": {
        "id": "FyKFxV9cOhZ-",
        "colab_type": "code",
        "outputId": "73db1b5d-d6c4-4a1a-80ac-0324adf65e57",
        "colab": {
          "base_uri": "https://localhost:8080/",
          "height": 82
        }
      },
      "source": [
        "tf.one_hot(train_labels, depth=10)[0:3]"
      ],
      "execution_count": 0,
      "outputs": [
        {
          "output_type": "execute_result",
          "data": {
            "text/plain": [
              "<tf.Tensor: id=1813, shape=(3, 10), dtype=float32, numpy=\n",
              "array([[0., 0., 0., 0., 0., 1., 0., 0., 0., 0.],\n",
              "       [1., 0., 0., 0., 0., 0., 0., 0., 0., 0.],\n",
              "       [0., 0., 0., 0., 1., 0., 0., 0., 0., 0.]], dtype=float32)>"
            ]
          },
          "metadata": {
            "tags": []
          },
          "execution_count": 175
        }
      ]
    },
    {
      "cell_type": "code",
      "metadata": {
        "id": "OQMu09BWUAkJ",
        "colab_type": "code",
        "outputId": "dd371763-b013-4a51-f48d-83f4f28edb6d",
        "colab": {
          "base_uri": "https://localhost:8080/",
          "height": 33
        }
      },
      "source": [
        "tf.data.Dataset.from_tensors(tf.one_hot(train_labels, depth=10))"
      ],
      "execution_count": 0,
      "outputs": [
        {
          "output_type": "execute_result",
          "data": {
            "text/plain": [
              "<TensorDataset shapes: (60000, 10), types: tf.float32>"
            ]
          },
          "metadata": {
            "tags": []
          },
          "execution_count": 184
        }
      ]
    },
    {
      "cell_type": "code",
      "metadata": {
        "id": "4pn2bArkVzDc",
        "colab_type": "code",
        "outputId": "bceafe8d-7968-465a-f12c-00e81cc22b4a",
        "colab": {
          "base_uri": "https://localhost:8080/",
          "height": 33
        }
      },
      "source": [
        "train_dataset"
      ],
      "execution_count": 0,
      "outputs": [
        {
          "output_type": "execute_result",
          "data": {
            "text/plain": [
              "<ZipDataset shapes: ((28, 28, 1), (10,)), types: (tf.float32, tf.float32)>"
            ]
          },
          "metadata": {
            "tags": []
          },
          "execution_count": 189
        }
      ]
    },
    {
      "cell_type": "code",
      "metadata": {
        "id": "Y2YOoXUGV_VS",
        "colab_type": "code",
        "colab": {}
      },
      "source": [
        "shape = label.shape"
      ],
      "execution_count": 0,
      "outputs": []
    },
    {
      "cell_type": "code",
      "metadata": {
        "id": "3WMa4-v3FDDn",
        "colab_type": "code",
        "outputId": "e16ffcde-645e-417d-e063-ff46425bfcb7",
        "colab": {
          "base_uri": "https://localhost:8080/",
          "height": 158
        }
      },
      "source": [
        "shape[0]"
      ],
      "execution_count": 0,
      "outputs": [
        {
          "output_type": "error",
          "ename": "NameError",
          "evalue": "ignored",
          "traceback": [
            "\u001b[0;31m---------------------------------------------------------------------------\u001b[0m",
            "\u001b[0;31mNameError\u001b[0m                                 Traceback (most recent call last)",
            "\u001b[0;32m<ipython-input-81-7cd697bdacf8>\u001b[0m in \u001b[0;36m<module>\u001b[0;34m()\u001b[0m\n\u001b[0;32m----> 1\u001b[0;31m \u001b[0mshape\u001b[0m\u001b[0;34m[\u001b[0m\u001b[0;36m0\u001b[0m\u001b[0;34m]\u001b[0m\u001b[0;34m\u001b[0m\u001b[0;34m\u001b[0m\u001b[0m\n\u001b[0m",
            "\u001b[0;31mNameError\u001b[0m: name 'shape' is not defined"
          ]
        }
      ]
    },
    {
      "cell_type": "code",
      "metadata": {
        "id": "1knkNRK5sCFE",
        "colab_type": "code",
        "colab": {}
      },
      "source": [
        "class fourLayerCNN(tf.keras.Model):\n",
        "    \"\"\"Simple 4-layer CNN\"\"\"\n",
        "\n",
        "    def __init__(self, o=4.4, output_dim=11, name='cnn', **kwargs) -> None:\n",
        "        super(fourLayerCNN, self).__init__(name=name, **kwargs)\n",
        "        self.o = o\n",
        "        self.output_dim = output_dim\n",
        "        self.input_layer = layers.InputLayer(input_shape=(28, 28, 1))\n",
        "        self.conv2d_1 = layers.Conv2D(filters=32, kernel_size=3, strides=(1, 1), activation='relu')\n",
        "        self.conv2d_2 = layers.Conv2D(filters=64, kernel_size=3, strides=(1, 1), activation='relu')\n",
        "        self.dropout = layers.Dropout(rate=0.2)\n",
        "        self.flatten = layers.Flatten()\n",
        "        self.dense = layers.Dense(self.output_dim)\n",
        "        self.prob = layers.Softmax()\n",
        "\n",
        "    def call(self, inputs):\n",
        "        x = self.input_layer(inputs)\n",
        "        x = self.conv2d_1(x)\n",
        "        x = self.conv2d_2(x)\n",
        "        x = self.conv2d_3(x)\n",
        "        x = self.conv2d_4(x)\n",
        "        x = self.flatten(x)\n",
        "        x = self.dense(x)\n",
        "        prob = self.prob(x)\n",
        "        return prob"
      ],
      "execution_count": 0,
      "outputs": []
    },
    {
      "cell_type": "code",
      "metadata": {
        "id": "KStZSDaVsCve",
        "colab_type": "code",
        "colab": {}
      },
      "source": [
        "def compute_loss(model, x, y):\n",
        "    weighted_prob = model(x)\n",
        "    cross_ent = tf.nn.sigmoid_cross_entropy_with_logits(logits=weighted_prob, labels=y)\n",
        "    return cross_ent"
      ],
      "execution_count": 0,
      "outputs": []
    },
    {
      "cell_type": "code",
      "metadata": {
        "id": "z1YabMztlJT6",
        "colab_type": "code",
        "colab": {
          "base_uri": "https://localhost:8080/",
          "height": 33
        },
        "outputId": "e864f40c-a569-463d-8512-ae3fcde546d5"
      },
      "source": [
        "abstention_scores[:3]"
      ],
      "execution_count": 133,
      "outputs": [
        {
          "output_type": "execute_result",
          "data": {
            "text/plain": [
              "[(0.90393245, 9982), (0.84273535, 5888), (0.84111273, 717)]"
            ]
          },
          "metadata": {
            "tags": []
          },
          "execution_count": 133
        }
      ]
    },
    {
      "cell_type": "code",
      "metadata": {
        "id": "RBn_7ZuylO8-",
        "colab_type": "code",
        "colab": {
          "base_uri": "https://localhost:8080/",
          "height": 285
        },
        "outputId": "3ce3853c-eb2f-439b-abe8-7a0aa7f0e723"
      },
      "source": [
        "plt.imshow(test_images[9982].reshape(28, 28), cmap=\"gray\")"
      ],
      "execution_count": 136,
      "outputs": [
        {
          "output_type": "execute_result",
          "data": {
            "text/plain": [
              "<matplotlib.image.AxesImage at 0x7f6a515dbf28>"
            ]
          },
          "metadata": {
            "tags": []
          },
          "execution_count": 136
        },
        {
          "output_type": "display_data",
          "data": {
            "image/png": "[encoded data removed]",
            "text/plain": [
              "<Figure size 432x288 with 1 Axes>"
            ]
          },
          "metadata": {
            "tags": []
          }
        }
      ]
    },
    {
      "cell_type": "code",
      "metadata": {
        "id": "2Cmi7Y3H_KQQ",
        "colab_type": "code",
        "colab": {}
      },
      "source": [
        "test = rotation(test_images[16], 180)"
      ],
      "execution_count": 0,
      "outputs": []
    },
    {
      "cell_type": "code",
      "metadata": {
        "id": "M2t1HCxM_MRx",
        "colab_type": "code",
        "colab": {
          "base_uri": "https://localhost:8080/",
          "height": 285
        },
        "outputId": "c054503e-d50d-4c59-9384-252159c932f9"
      },
      "source": [
        "plt.imshow(test.reshape(28, 28), cmap=\"gray\")"
      ],
      "execution_count": 106,
      "outputs": [
        {
          "output_type": "execute_result",
          "data": {
            "text/plain": [
              "<matplotlib.image.AxesImage at 0x7f1faf8ba748>"
            ]
          },
          "metadata": {
            "tags": []
          },
          "execution_count": 106
        },
        {
          "output_type": "display_data",
          "data": {
            "image/png": "[encoded data removed]",
            "text/plain": [
              "<Figure size 432x288 with 1 Axes>"
            ]
          },
          "metadata": {
            "tags": []
          }
        }
      ]
    }
  ]
}